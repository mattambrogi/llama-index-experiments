{
  "nbformat": 4,
  "nbformat_minor": 0,
  "metadata": {
    "colab": {
      "provenance": [],
      "authorship_tag": "ABX9TyPwlTqzHTf9ppFhmpdYlq6R",
      "include_colab_link": true
    },
    "kernelspec": {
      "name": "python3",
      "display_name": "Python 3"
    },
    "language_info": {
      "name": "python"
    }
  },
  "cells": [
    {
      "cell_type": "markdown",
      "metadata": {
        "id": "view-in-github",
        "colab_type": "text"
      },
      "source": [
        "<a href=\"https://colab.research.google.com/github/mattambrogi/llama-index-experiments/blob/main/copy_base_index_setup.ipynb\" target=\"_parent\"><img src=\"https://colab.research.google.com/assets/colab-badge.svg\" alt=\"Open In Colab\"/></a>"
      ]
    },
    {
      "cell_type": "code",
      "execution_count": null,
      "metadata": {
        "id": "QzGZUAIHL-Hu"
      },
      "outputs": [],
      "source": [
        "# Scrape collection of blog posts\n",
        "# Grab date and append to title\n",
        "# Place in directory 'blog_posts/' Put inside multiple folders.\n",
        "# Implementation details hidden\n",
        "\n",
        "offset = 0\n",
        "increment = 20\n",
        "total = 1000\n",
        "while True:\n",
        "  scraped_posts = GetPosts({'number': increment, 'offset': offset})\n",
        "  if len(scraped_posts) == 0:\n",
        "    break  # no more posts returned\n",
        "\n",
        "  for post in scraped_posts:\n",
        "    transformed_title = re.sub(r'[\\s/]+', '_', post.title)\n",
        "    with open('blog_posts/' + transformed_title + '.txt', 'w') as f:\n",
        "      post.content = result = re.sub(r'<.*?>', '', post.content)\n",
        "      f.write(post.content)\n",
        "\n",
        "  offset = offset + increment\n",
        "  if offset >= total:\n",
        "    break"
      ]
    },
    {
      "cell_type": "code",
      "source": [
        "!pip install openai\n",
        "!pip install llama_index\n",
        "!pip install langchain\n",
        "\n",
        "from llama_index import GPTVectorStoreIndex, SimpleDirectoryReader, LLMPredictor, PromptHelper, ServiceContext\n",
        "from langchain.chat_models import ChatOpenAI"
      ],
      "metadata": {
        "id": "fqyr6doZMDKw"
      },
      "execution_count": null,
      "outputs": []
    },
    {
      "cell_type": "code",
      "source": [
        "os.environ[\"OPENAI_API_KEY\"] = \"<OPENAI_API_KEY>\""
      ],
      "metadata": {
        "id": "0zm0kD8LMIht"
      },
      "execution_count": null,
      "outputs": []
    },
    {
      "cell_type": "code",
      "source": [
        "documents = SimpleDirectoryReader('blog_posts').load_data()"
      ],
      "metadata": {
        "id": "5NV79rcpNYBM"
      },
      "execution_count": null,
      "outputs": []
    },
    {
      "cell_type": "code",
      "source": [],
      "metadata": {
        "id": "D3twJ_ZmOena"
      },
      "execution_count": null,
      "outputs": []
    },
    {
      "cell_type": "code",
      "source": [
        "max_input_size = 4096\n",
        "num_outputs = 256\n",
        "chunk_size_limit = 600\n",
        "\n",
        "llm_predictor = LLMPredictor(llm=ChatOpenAI(temperature=0, model_name=\"gpt-3.5-turbo\"))\n",
        "prompt_helper = PromptHelper(max_input_size, num_outputs, chunk_size_limit=chunk_size_limit)\n",
        "service_context = ServiceContext.from_defaults(llm_predictor=llm_predictor, prompt_helper = prompt_helper)"
      ],
      "metadata": {
        "id": "Ya4mNTv1OxtB"
      },
      "execution_count": null,
      "outputs": []
    },
    {
      "cell_type": "code",
      "source": [
        "index = GPTVectorStoreIndex.from_documents(\n",
        "    documents, service_context=service_context\n",
        ")"
      ],
      "metadata": {
        "id": "DSU6YUtyOYCW"
      },
      "execution_count": null,
      "outputs": []
    },
    {
      "cell_type": "code",
      "source": [
        "query_engine = index.as_query_engine(similarity_top_k=3)"
      ],
      "metadata": {
        "id": "6vsRaf8-NkLD"
      },
      "execution_count": null,
      "outputs": []
    },
    {
      "cell_type": "code",
      "source": [
        "response = query_engine.query(\"Example question\")\n",
        "print(response)"
      ],
      "metadata": {
        "id": "SU4u2rBbN_D4"
      },
      "execution_count": null,
      "outputs": []
    }
  ]
}