{
  "nbformat": 4,
  "nbformat_minor": 0,
  "metadata": {
    "colab": {
      "provenance": [],
      "authorship_tag": "ABX9TyPXsRvX7mmf362qZriwW1yQ",
      "include_colab_link": true
    },
    "kernelspec": {
      "name": "python3",
      "display_name": "Python 3"
    },
    "language_info": {
      "name": "python"
    }
  },
  "cells": [
    {
      "cell_type": "markdown",
      "metadata": {
        "id": "view-in-github",
        "colab_type": "text"
      },
      "source": [
        "<a href=\"https://colab.research.google.com/github/mattambrogi/llama-index-experiments/blob/main/copy_response_evaluation.ipynb\" target=\"_parent\"><img src=\"https://colab.research.google.com/assets/colab-badge.svg\" alt=\"Open In Colab\"/></a>"
      ]
    },
    {
      "cell_type": "markdown",
      "source": [
        "Note: gpt_index imports outdated. More up to date code in recency evaluation."
      ],
      "metadata": {
        "id": "SmNL2ue4r7HC"
      }
    },
    {
      "cell_type": "markdown",
      "source": [
        "**Download blog posts**"
      ],
      "metadata": {
        "id": "hHWme14Km2sR"
      }
    },
    {
      "cell_type": "code",
      "execution_count": null,
      "metadata": {
        "id": "H9Ve6IG60pqj"
      },
      "outputs": [],
      "source": [
        "# Code hidden"
      ]
    },
    {
      "cell_type": "markdown",
      "source": [
        "**LlamaIndex / GPT Setup**"
      ],
      "metadata": {
        "id": "A_8F4Torm9Og"
      }
    },
    {
      "cell_type": "code",
      "source": [
        "!pip install openai==0.27\n",
        "!pip install gpt_index\n",
        "!pip install langchain\n",
        "\n",
        "from gpt_index.evaluation import DatasetGenerator, QueryResponseEvaluator\n",
        "from gpt_index import SimpleDirectoryReader, GPTSimpleVectorIndex, ServiceContext, LLMPredictor, Response\n",
        "from langchain.chat_models import ChatOpenAI"
      ],
      "metadata": {
        "id": "juz6oZSIn8yd"
      },
      "execution_count": null,
      "outputs": []
    },
    {
      "cell_type": "code",
      "source": [
        "import logging\n",
        "import sys\n",
        "import pandas as pd\n",
        "\n",
        "logging.basicConfig(stream=sys.stdout, level=logging.INFO)\n",
        "logging.getLogger().addHandler(logging.StreamHandler(stream=sys.stdout))"
      ],
      "metadata": {
        "id": "JXS2AvYqoDAm"
      },
      "execution_count": null,
      "outputs": []
    },
    {
      "cell_type": "code",
      "source": [
        "os.environ[\"OPENAI_API_KEY\"] = \"<OPENAI_API_KEY\""
      ],
      "metadata": {
        "id": "U8uRO7q_oGDY"
      },
      "execution_count": null,
      "outputs": []
    },
    {
      "cell_type": "code",
      "source": [
        "reader = SimpleDirectoryReader('/content/blog_posts')\n",
        "documents = reader.load_data()"
      ],
      "metadata": {
        "id": "aVor0Pt2oKEM"
      },
      "execution_count": null,
      "outputs": []
    },
    {
      "cell_type": "markdown",
      "source": [
        "**Load in pre-generated test questions**\n"
      ],
      "metadata": {
        "id": "xoKi3Kcao2U_"
      }
    },
    {
      "cell_type": "code",
      "source": [
        "# read the questions back into an array\n",
        "with open('questions.txt', 'r') as f:\n",
        "    eval_questions = f.read().splitlines()"
      ],
      "metadata": {
        "id": "6iWw2IeZpBBX"
      },
      "execution_count": null,
      "outputs": []
    },
    {
      "cell_type": "code",
      "source": [
        "for i in range(10):\n",
        "  print(eval_questions[i])"
      ],
      "metadata": {
        "id": "Ui90B36Tp4Ce"
      },
      "execution_count": null,
      "outputs": []
    },
    {
      "cell_type": "code",
      "source": [
        "# define jupyter display function\n",
        "def display_eval_df(query: str, response: Response, eval_result: str) -> None:\n",
        "    eval_df = pd.DataFrame(\n",
        "        {\n",
        "            \"Query\": query,\n",
        "            \"Response\": str(response),\n",
        "            \"Source\": response.source_nodes[0].source_text[:1000] + \"...\",\n",
        "            \"Evaluation Result\": eval_result\n",
        "        },\n",
        "        index=[0]\n",
        "    )\n",
        "    eval_df = eval_df.style.set_properties(\n",
        "        **{\n",
        "            'inline-size': '600px',\n",
        "            'overflow-wrap': 'break-word',\n",
        "        },\n",
        "        subset=[\"Response\", \"Source\"]\n",
        "    )\n",
        "    display(eval_df)"
      ],
      "metadata": {
        "id": "pLkX_FsuoqN_"
      },
      "execution_count": null,
      "outputs": []
    },
    {
      "cell_type": "markdown",
      "source": [
        "**Contruct Index**\n",
        "\n"
      ],
      "metadata": {
        "id": "dP289pdEvNMr"
      }
    },
    {
      "cell_type": "code",
      "source": [
        "from gpt_index import PromptHelper"
      ],
      "metadata": {
        "id": "wN1Y3Xv_vnZw"
      },
      "execution_count": null,
      "outputs": []
    },
    {
      "cell_type": "code",
      "source": [
        "max_input_size = 4096\n",
        "num_outputs = 256\n",
        "max_chunk_overlap = 20\n",
        "chunk_size_limit = 600\n",
        "\n",
        "llm_predictor = LLMPredictor(llm=ChatOpenAI(temperature=0, model_name=\"gpt-3.5-turbo\"))\n",
        "prompt_helper = PromptHelper(max_input_size, num_outputs, max_chunk_overlap, chunk_size_limit=chunk_size_limit)\n",
        "service_context = ServiceContext.from_defaults(llm_predictor=llm_predictor, prompt_helper = prompt_helper)\n",
        "\n",
        "documents = SimpleDirectoryReader('/content/blog_posts').load_data()\n",
        "\n",
        "index = GPTSimpleVectorIndex.from_documents(\n",
        "  documents,\n",
        "  service_context=service_context\n",
        ")"
      ],
      "metadata": {
        "id": "V22FsJ7AvWR7"
      },
      "execution_count": null,
      "outputs": []
    },
    {
      "cell_type": "markdown",
      "source": [
        "**Test evalute 20 questions**"
      ],
      "metadata": {
        "id": "BAZZBqwynbe-"
      }
    },
    {
      "cell_type": "code",
      "source": [
        "evaluator = QueryResponseEvaluator(service_context=service_context)"
      ],
      "metadata": {
        "id": "uaEzQaSrxI9R"
      },
      "execution_count": null,
      "outputs": []
    },
    {
      "cell_type": "code",
      "source": [
        "total = 20\n",
        "count_valid = 0\n",
        "for i in range(total):\n",
        "  response_vector = index.query(eval_questions[i])\n",
        "  eval_result = evaluator.evaluate(eval_questions[i], response_vector)\n",
        "  print(eval_result)\n",
        "  if eval_result == \"YES\":\n",
        "    count_valid += 1\n",
        "\n",
        "percent_valid = count_valid / total\n",
        "percent_string = '{:.0%}'.format(percent_valid)\n",
        "print(percent_string)"
      ],
      "metadata": {
        "id": "a0U7hSuGww-J"
      },
      "execution_count": null,
      "outputs": []
    },
    {
      "cell_type": "markdown",
      "source": [
        "Select 100 random questions to test"
      ],
      "metadata": {
        "id": "eVapJjFjniUP"
      }
    },
    {
      "cell_type": "code",
      "source": [
        "import random\n",
        "\n",
        "max_idx = len(eval_questions)-1\n",
        "seen = set()\n",
        "count = 0\n",
        "rand_questions = []\n",
        "while count < 120:\n",
        "  rand_idx = random.randint(0, max_idx)\n",
        "  while rand_idx in seen:\n",
        "    rand_idx = random.randint(0, max_idx)\n",
        "  seen.add(rand_idx)\n",
        "  rand_questions.append(eval_questions[rand_idx])\n",
        "  count += 1\n",
        "\n",
        "print(len(rand_questions))"
      ],
      "metadata": {
        "colab": {
          "base_uri": "https://localhost:8080/"
        },
        "id": "XJ2exrDG1mG6",
        "outputId": "a0c7aa86-91f9-41d1-a348-e27ec520aac9"
      },
      "execution_count": null,
      "outputs": [
        {
          "output_type": "stream",
          "name": "stdout",
          "text": [
            "120\n"
          ]
        }
      ]
    },
    {
      "cell_type": "code",
      "source": [
        "rand_questions[22]"
      ],
      "metadata": {
        "colab": {
          "base_uri": "https://localhost:8080/",
          "height": 35
        },
        "id": "2unUqRyR2zvr",
        "outputId": "f0722920-eca0-49da-f20a-3a7c86e2add4"
      },
      "execution_count": null,
      "outputs": [
        {
          "output_type": "execute_result",
          "data": {
            "text/plain": [
              "\"What is the pricing structure for Lexicon's software and services?\""
            ],
            "application/vnd.google.colaboratory.intrinsic+json": {
              "type": "string"
            }
          },
          "metadata": {},
          "execution_count": 63
        }
      ]
    },
    {
      "cell_type": "markdown",
      "source": [
        "**Run evaluation and build dataframe**"
      ],
      "metadata": {
        "id": "edDX8Vfl266x"
      }
    },
    {
      "cell_type": "code",
      "source": [
        "def create_eval_df_row(query: str, response: Response, eval_result: str) -> pd.DataFrame:\n",
        "    eval_df = pd.DataFrame(\n",
        "        {\n",
        "            \"Query\": query,\n",
        "            \"Response\": str(response),\n",
        "            \"Source\": response.source_nodes[0].source_text[:1000] + \"...\",\n",
        "            \"Evaluation Result\": eval_result\n",
        "        },\n",
        "        index=[0]\n",
        "    )\n",
        "    return eval_df"
      ],
      "metadata": {
        "id": "FUPnt6aNlK8V"
      },
      "execution_count": null,
      "outputs": []
    },
    {
      "cell_type": "code",
      "source": [
        "final_df = pd.DataFrame(columns=[\"Query\", \"Response\", \"Source\", \"Evaluation Result\"])"
      ],
      "metadata": {
        "id": "a7GeEgLGlYz2"
      },
      "execution_count": null,
      "outputs": []
    },
    {
      "cell_type": "code",
      "source": [
        "total = len(rand_questions)\n",
        "count_valid = 0\n",
        "for i in range(total):\n",
        "  response_vector = index.query(rand_questions[i])\n",
        "  eval_result = evaluator.evaluate(rand_questions[i], response_vector)\n",
        "  print('{}: {}'.format(i, eval_result))\n",
        "  if eval_result == \"YES\":\n",
        "    count_valid += 1\n",
        "  new_row = create_eval_df_row(rand_questions[i], response_vector, eval_result)\n",
        "  final_df = final_df.append(new_row, ignore_index=True)\n",
        "\n",
        "percent_valid = count_valid / total\n",
        "percent_string = '{:.0%}'.format(percent_valid)\n",
        "print(percent_string)"
      ],
      "metadata": {
        "id": "0ozh3Fip3e9K"
      },
      "execution_count": null,
      "outputs": []
    },
    {
      "cell_type": "code",
      "source": [
        "final_df.head()"
      ],
      "metadata": {
        "colab": {
          "base_uri": "https://localhost:8080/",
          "height": 354
        },
        "id": "ovcM82wHmEYZ",
        "outputId": "04b4eed4-e61c-4670-8d80-e1e8f0e82095"
      },
      "execution_count": null,
      "outputs": [
        {
          "output_type": "execute_result",
          "data": {
            "text/plain": [
              "                                               Query  \\\n",
              "0  What legal technology companies has MyCase rec...   \n",
              "1  What is Ron Markezich's vision for Lighthouse'...   \n",
              "2  How has Lexion grown in the past year and whic...   \n",
              "3  Who led the oversubscribed Series A funding ro...   \n",
              "4  When did the unauthorized access to the ABA ne...   \n",
              "\n",
              "                                            Response  \\\n",
              "0  MyCase has recently acquired two legal technol...   \n",
              "1  Ron Markezich's vision for Lighthouse's future...   \n",
              "2  Lexion has raised $11 million in an oversubscr...   \n",
              "3  The oversubscribed Series A funding round for ...   \n",
              "4  The unauthorized access to the ABA network occ...   \n",
              "\n",
              "                                              Source Evaluation Result  \n",
              "0  The law practice management company MyCase has...                NO  \n",
              "1  Lighthouse, the Seattle-based company that pro...                NO  \n",
              "2  Positioning itself as offering a simpler and m...                NO  \n",
              "3  Positioning itself as offering a simpler and m...                NO  \n",
              "4  The American Bar Association said last night t...                NO  "
            ],
            "text/html": [
              "\n",
              "  <div id=\"df-b62a258a-e34c-4435-8766-f828b479ccb5\">\n",
              "    <div class=\"colab-df-container\">\n",
              "      <div>\n",
              "<style scoped>\n",
              "    .dataframe tbody tr th:only-of-type {\n",
              "        vertical-align: middle;\n",
              "    }\n",
              "\n",
              "    .dataframe tbody tr th {\n",
              "        vertical-align: top;\n",
              "    }\n",
              "\n",
              "    .dataframe thead th {\n",
              "        text-align: right;\n",
              "    }\n",
              "</style>\n",
              "<table border=\"1\" class=\"dataframe\">\n",
              "  <thead>\n",
              "    <tr style=\"text-align: right;\">\n",
              "      <th></th>\n",
              "      <th>Query</th>\n",
              "      <th>Response</th>\n",
              "      <th>Source</th>\n",
              "      <th>Evaluation Result</th>\n",
              "    </tr>\n",
              "  </thead>\n",
              "  <tbody>\n",
              "    <tr>\n",
              "      <th>0</th>\n",
              "      <td>What legal technology companies has MyCase rec...</td>\n",
              "      <td>MyCase has recently acquired two legal technol...</td>\n",
              "      <td>The law practice management company MyCase has...</td>\n",
              "      <td>NO</td>\n",
              "    </tr>\n",
              "    <tr>\n",
              "      <th>1</th>\n",
              "      <td>What is Ron Markezich's vision for Lighthouse'...</td>\n",
              "      <td>Ron Markezich's vision for Lighthouse's future...</td>\n",
              "      <td>Lighthouse, the Seattle-based company that pro...</td>\n",
              "      <td>NO</td>\n",
              "    </tr>\n",
              "    <tr>\n",
              "      <th>2</th>\n",
              "      <td>How has Lexion grown in the past year and whic...</td>\n",
              "      <td>Lexion has raised $11 million in an oversubscr...</td>\n",
              "      <td>Positioning itself as offering a simpler and m...</td>\n",
              "      <td>NO</td>\n",
              "    </tr>\n",
              "    <tr>\n",
              "      <th>3</th>\n",
              "      <td>Who led the oversubscribed Series A funding ro...</td>\n",
              "      <td>The oversubscribed Series A funding round for ...</td>\n",
              "      <td>Positioning itself as offering a simpler and m...</td>\n",
              "      <td>NO</td>\n",
              "    </tr>\n",
              "    <tr>\n",
              "      <th>4</th>\n",
              "      <td>When did the unauthorized access to the ABA ne...</td>\n",
              "      <td>The unauthorized access to the ABA network occ...</td>\n",
              "      <td>The American Bar Association said last night t...</td>\n",
              "      <td>NO</td>\n",
              "    </tr>\n",
              "  </tbody>\n",
              "</table>\n",
              "</div>\n",
              "      <button class=\"colab-df-convert\" onclick=\"convertToInteractive('df-b62a258a-e34c-4435-8766-f828b479ccb5')\"\n",
              "              title=\"Convert this dataframe to an interactive table.\"\n",
              "              style=\"display:none;\">\n",
              "        \n",
              "  <svg xmlns=\"http://www.w3.org/2000/svg\" height=\"24px\"viewBox=\"0 0 24 24\"\n",
              "       width=\"24px\">\n",
              "    <path d=\"M0 0h24v24H0V0z\" fill=\"none\"/>\n",
              "    <path d=\"M18.56 5.44l.94 2.06.94-2.06 2.06-.94-2.06-.94-.94-2.06-.94 2.06-2.06.94zm-11 1L8.5 8.5l.94-2.06 2.06-.94-2.06-.94L8.5 2.5l-.94 2.06-2.06.94zm10 10l.94 2.06.94-2.06 2.06-.94-2.06-.94-.94-2.06-.94 2.06-2.06.94z\"/><path d=\"M17.41 7.96l-1.37-1.37c-.4-.4-.92-.59-1.43-.59-.52 0-1.04.2-1.43.59L10.3 9.45l-7.72 7.72c-.78.78-.78 2.05 0 2.83L4 21.41c.39.39.9.59 1.41.59.51 0 1.02-.2 1.41-.59l7.78-7.78 2.81-2.81c.8-.78.8-2.07 0-2.86zM5.41 20L4 18.59l7.72-7.72 1.47 1.35L5.41 20z\"/>\n",
              "  </svg>\n",
              "      </button>\n",
              "      \n",
              "  <style>\n",
              "    .colab-df-container {\n",
              "      display:flex;\n",
              "      flex-wrap:wrap;\n",
              "      gap: 12px;\n",
              "    }\n",
              "\n",
              "    .colab-df-convert {\n",
              "      background-color: #E8F0FE;\n",
              "      border: none;\n",
              "      border-radius: 50%;\n",
              "      cursor: pointer;\n",
              "      display: none;\n",
              "      fill: #1967D2;\n",
              "      height: 32px;\n",
              "      padding: 0 0 0 0;\n",
              "      width: 32px;\n",
              "    }\n",
              "\n",
              "    .colab-df-convert:hover {\n",
              "      background-color: #E2EBFA;\n",
              "      box-shadow: 0px 1px 2px rgba(60, 64, 67, 0.3), 0px 1px 3px 1px rgba(60, 64, 67, 0.15);\n",
              "      fill: #174EA6;\n",
              "    }\n",
              "\n",
              "    [theme=dark] .colab-df-convert {\n",
              "      background-color: #3B4455;\n",
              "      fill: #D2E3FC;\n",
              "    }\n",
              "\n",
              "    [theme=dark] .colab-df-convert:hover {\n",
              "      background-color: #434B5C;\n",
              "      box-shadow: 0px 1px 3px 1px rgba(0, 0, 0, 0.15);\n",
              "      filter: drop-shadow(0px 1px 2px rgba(0, 0, 0, 0.3));\n",
              "      fill: #FFFFFF;\n",
              "    }\n",
              "  </style>\n",
              "\n",
              "      <script>\n",
              "        const buttonEl =\n",
              "          document.querySelector('#df-b62a258a-e34c-4435-8766-f828b479ccb5 button.colab-df-convert');\n",
              "        buttonEl.style.display =\n",
              "          google.colab.kernel.accessAllowed ? 'block' : 'none';\n",
              "\n",
              "        async function convertToInteractive(key) {\n",
              "          const element = document.querySelector('#df-b62a258a-e34c-4435-8766-f828b479ccb5');\n",
              "          const dataTable =\n",
              "            await google.colab.kernel.invokeFunction('convertToInteractive',\n",
              "                                                     [key], {});\n",
              "          if (!dataTable) return;\n",
              "\n",
              "          const docLinkHtml = 'Like what you see? Visit the ' +\n",
              "            '<a target=\"_blank\" href=https://colab.research.google.com/notebooks/data_table.ipynb>data table notebook</a>'\n",
              "            + ' to learn more about interactive tables.';\n",
              "          element.innerHTML = '';\n",
              "          dataTable['output_type'] = 'display_data';\n",
              "          await google.colab.output.renderOutput(dataTable, element);\n",
              "          const docLink = document.createElement('div');\n",
              "          docLink.innerHTML = docLinkHtml;\n",
              "          element.appendChild(docLink);\n",
              "        }\n",
              "      </script>\n",
              "    </div>\n",
              "  </div>\n",
              "  "
            ]
          },
          "metadata": {},
          "execution_count": 53
        }
      ]
    },
    {
      "cell_type": "code",
      "source": [
        "final_df.to_csv('eval_one_output.csv', index=False)"
      ],
      "metadata": {
        "id": "4g03NrMNmaHh"
      },
      "execution_count": null,
      "outputs": []
    },
    {
      "cell_type": "markdown",
      "source": [
        "\n",
        "\n",
        "```\n",
        "# This is formatted as code\n",
        "```\n",
        "\n",
        "**Evalute Test Set 2**\n",
        "\n",
        "Non-LlamaIndex generated set"
      ],
      "metadata": {
        "id": "qj3yIpqF1sYp"
      }
    },
    {
      "cell_type": "code",
      "source": [
        "# read the questions back into an array\n",
        "with open('gpt-generated-questions.txt', 'r') as f:\n",
        "    eval_questions = f.read().split('?')\n",
        "    # Remove empty strings resulting from the split and add '?' back to each question\n",
        "    eval_questions = [question.strip() + '?' for question in eval_questions if question.strip()]"
      ],
      "metadata": {
        "id": "3RM-aRgP1zKg"
      },
      "execution_count": null,
      "outputs": []
    },
    {
      "cell_type": "code",
      "source": [
        "final_df_gpt = pd.DataFrame(columns=[\"Query\", \"Response\", \"Source\", \"Evaluation Result\"])"
      ],
      "metadata": {
        "id": "nLgBpjhd5p7v"
      },
      "execution_count": null,
      "outputs": []
    },
    {
      "cell_type": "code",
      "source": [
        "evaluator = QueryResponseEvaluator(service_context=service_context)"
      ],
      "metadata": {
        "id": "lM8E_t6W6RfN"
      },
      "execution_count": null,
      "outputs": []
    },
    {
      "cell_type": "code",
      "source": [
        "total = len(eval_questions)\n",
        "count_valid = 0\n",
        "for i in range(total):\n",
        "  response_vector = index.query(eval_questions[i])\n",
        "  eval_result = evaluator.evaluate(eval_questions[i], response_vector)\n",
        "  print('{}: {}'.format(i, eval_result))\n",
        "  if eval_result == \"YES\":\n",
        "    count_valid += 1\n",
        "  new_row = create_eval_df_row(eval_questions[i], response_vector, eval_result)\n",
        "  final_df_gpt = final_df_gpt.append(new_row, ignore_index=True)\n",
        "\n",
        "percent_valid = count_valid / total\n",
        "percent_string = '{:.0%}'.format(percent_valid)\n",
        "print(percent_string)"
      ],
      "metadata": {
        "id": "dYnFI3Gy53_9"
      },
      "execution_count": null,
      "outputs": []
    },
    {
      "cell_type": "code",
      "source": [
        "final_df_gpt.head()"
      ],
      "metadata": {
        "colab": {
          "base_uri": "https://localhost:8080/",
          "height": 354
        },
        "id": "xWGX9DX_CCFd",
        "outputId": "eeb0e0b4-e5f0-4ef9-8a2f-b641372f4623"
      },
      "execution_count": null,
      "outputs": [
        {
          "output_type": "execute_result",
          "data": {
            "text/plain": [
              "                                               Query  \\\n",
              "0  What are the main features of Clio's practice ...   \n",
              "1  How does LexisNexis streamline legal research ...   \n",
              "2  What is Relativity's role in the eDiscovery pr...   \n",
              "3  How does LegalZoom assist with online legal se...   \n",
              "4  How do law firms use artificial intelligence f...   \n",
              "\n",
              "                                            Response  \\\n",
              "0  The main features of Clio's practice managemen...   \n",
              "1  LexisNexis streamlines legal research for atto...   \n",
              "2  Relativity's role in the eDiscovery process is...   \n",
              "3  LegalZoom assists with online legal services b...   \n",
              "4  The context information does not specifically ...   \n",
              "\n",
              "                                              Source Evaluation Result  \n",
              "0  During his keynote address opening his company...               YES  \n",
              "1  in July, Pfeifer told me this tight integratio...               YES  \n",
              "2  At its annual RelativityFest user conference i...               YES  \n",
              "3  I just wrote about Intapp's filing of papers w...               YES  \n",
              "4  Each week, we’re highlighting one of the resou...               YES  "
            ],
            "text/html": [
              "\n",
              "  <div id=\"df-a5272a28-b37e-4b6a-ada5-6067ca01180e\">\n",
              "    <div class=\"colab-df-container\">\n",
              "      <div>\n",
              "<style scoped>\n",
              "    .dataframe tbody tr th:only-of-type {\n",
              "        vertical-align: middle;\n",
              "    }\n",
              "\n",
              "    .dataframe tbody tr th {\n",
              "        vertical-align: top;\n",
              "    }\n",
              "\n",
              "    .dataframe thead th {\n",
              "        text-align: right;\n",
              "    }\n",
              "</style>\n",
              "<table border=\"1\" class=\"dataframe\">\n",
              "  <thead>\n",
              "    <tr style=\"text-align: right;\">\n",
              "      <th></th>\n",
              "      <th>Query</th>\n",
              "      <th>Response</th>\n",
              "      <th>Source</th>\n",
              "      <th>Evaluation Result</th>\n",
              "    </tr>\n",
              "  </thead>\n",
              "  <tbody>\n",
              "    <tr>\n",
              "      <th>0</th>\n",
              "      <td>What are the main features of Clio's practice ...</td>\n",
              "      <td>The main features of Clio's practice managemen...</td>\n",
              "      <td>During his keynote address opening his company...</td>\n",
              "      <td>YES</td>\n",
              "    </tr>\n",
              "    <tr>\n",
              "      <th>1</th>\n",
              "      <td>How does LexisNexis streamline legal research ...</td>\n",
              "      <td>LexisNexis streamlines legal research for atto...</td>\n",
              "      <td>in July, Pfeifer told me this tight integratio...</td>\n",
              "      <td>YES</td>\n",
              "    </tr>\n",
              "    <tr>\n",
              "      <th>2</th>\n",
              "      <td>What is Relativity's role in the eDiscovery pr...</td>\n",
              "      <td>Relativity's role in the eDiscovery process is...</td>\n",
              "      <td>At its annual RelativityFest user conference i...</td>\n",
              "      <td>YES</td>\n",
              "    </tr>\n",
              "    <tr>\n",
              "      <th>3</th>\n",
              "      <td>How does LegalZoom assist with online legal se...</td>\n",
              "      <td>LegalZoom assists with online legal services b...</td>\n",
              "      <td>I just wrote about Intapp's filing of papers w...</td>\n",
              "      <td>YES</td>\n",
              "    </tr>\n",
              "    <tr>\n",
              "      <th>4</th>\n",
              "      <td>How do law firms use artificial intelligence f...</td>\n",
              "      <td>The context information does not specifically ...</td>\n",
              "      <td>Each week, we’re highlighting one of the resou...</td>\n",
              "      <td>YES</td>\n",
              "    </tr>\n",
              "  </tbody>\n",
              "</table>\n",
              "</div>\n",
              "      <button class=\"colab-df-convert\" onclick=\"convertToInteractive('df-a5272a28-b37e-4b6a-ada5-6067ca01180e')\"\n",
              "              title=\"Convert this dataframe to an interactive table.\"\n",
              "              style=\"display:none;\">\n",
              "        \n",
              "  <svg xmlns=\"http://www.w3.org/2000/svg\" height=\"24px\"viewBox=\"0 0 24 24\"\n",
              "       width=\"24px\">\n",
              "    <path d=\"M0 0h24v24H0V0z\" fill=\"none\"/>\n",
              "    <path d=\"M18.56 5.44l.94 2.06.94-2.06 2.06-.94-2.06-.94-.94-2.06-.94 2.06-2.06.94zm-11 1L8.5 8.5l.94-2.06 2.06-.94-2.06-.94L8.5 2.5l-.94 2.06-2.06.94zm10 10l.94 2.06.94-2.06 2.06-.94-2.06-.94-.94-2.06-.94 2.06-2.06.94z\"/><path d=\"M17.41 7.96l-1.37-1.37c-.4-.4-.92-.59-1.43-.59-.52 0-1.04.2-1.43.59L10.3 9.45l-7.72 7.72c-.78.78-.78 2.05 0 2.83L4 21.41c.39.39.9.59 1.41.59.51 0 1.02-.2 1.41-.59l7.78-7.78 2.81-2.81c.8-.78.8-2.07 0-2.86zM5.41 20L4 18.59l7.72-7.72 1.47 1.35L5.41 20z\"/>\n",
              "  </svg>\n",
              "      </button>\n",
              "      \n",
              "  <style>\n",
              "    .colab-df-container {\n",
              "      display:flex;\n",
              "      flex-wrap:wrap;\n",
              "      gap: 12px;\n",
              "    }\n",
              "\n",
              "    .colab-df-convert {\n",
              "      background-color: #E8F0FE;\n",
              "      border: none;\n",
              "      border-radius: 50%;\n",
              "      cursor: pointer;\n",
              "      display: none;\n",
              "      fill: #1967D2;\n",
              "      height: 32px;\n",
              "      padding: 0 0 0 0;\n",
              "      width: 32px;\n",
              "    }\n",
              "\n",
              "    .colab-df-convert:hover {\n",
              "      background-color: #E2EBFA;\n",
              "      box-shadow: 0px 1px 2px rgba(60, 64, 67, 0.3), 0px 1px 3px 1px rgba(60, 64, 67, 0.15);\n",
              "      fill: #174EA6;\n",
              "    }\n",
              "\n",
              "    [theme=dark] .colab-df-convert {\n",
              "      background-color: #3B4455;\n",
              "      fill: #D2E3FC;\n",
              "    }\n",
              "\n",
              "    [theme=dark] .colab-df-convert:hover {\n",
              "      background-color: #434B5C;\n",
              "      box-shadow: 0px 1px 3px 1px rgba(0, 0, 0, 0.15);\n",
              "      filter: drop-shadow(0px 1px 2px rgba(0, 0, 0, 0.3));\n",
              "      fill: #FFFFFF;\n",
              "    }\n",
              "  </style>\n",
              "\n",
              "      <script>\n",
              "        const buttonEl =\n",
              "          document.querySelector('#df-a5272a28-b37e-4b6a-ada5-6067ca01180e button.colab-df-convert');\n",
              "        buttonEl.style.display =\n",
              "          google.colab.kernel.accessAllowed ? 'block' : 'none';\n",
              "\n",
              "        async function convertToInteractive(key) {\n",
              "          const element = document.querySelector('#df-a5272a28-b37e-4b6a-ada5-6067ca01180e');\n",
              "          const dataTable =\n",
              "            await google.colab.kernel.invokeFunction('convertToInteractive',\n",
              "                                                     [key], {});\n",
              "          if (!dataTable) return;\n",
              "\n",
              "          const docLinkHtml = 'Like what you see? Visit the ' +\n",
              "            '<a target=\"_blank\" href=https://colab.research.google.com/notebooks/data_table.ipynb>data table notebook</a>'\n",
              "            + ' to learn more about interactive tables.';\n",
              "          element.innerHTML = '';\n",
              "          dataTable['output_type'] = 'display_data';\n",
              "          await google.colab.output.renderOutput(dataTable, element);\n",
              "          const docLink = document.createElement('div');\n",
              "          docLink.innerHTML = docLinkHtml;\n",
              "          element.appendChild(docLink);\n",
              "        }\n",
              "      </script>\n",
              "    </div>\n",
              "  </div>\n",
              "  "
            ]
          },
          "metadata": {},
          "execution_count": 17
        }
      ]
    },
    {
      "cell_type": "code",
      "source": [
        "final_df_gpt.to_csv('eval_one_gpt_output.csv', index=False)"
      ],
      "metadata": {
        "id": "2XHsSlAxCHT2"
      },
      "execution_count": null,
      "outputs": []
    }
  ]
}